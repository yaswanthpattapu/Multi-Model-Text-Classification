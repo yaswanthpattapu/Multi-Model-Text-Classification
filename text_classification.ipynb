{
 "cells": [
  {
   "cell_type": "code",
   "execution_count": 40,
   "metadata": {
    "metadata": {}
   },
   "outputs": [
    {
     "name": "stdout",
     "output_type": "stream",
     "text": [
      "Defaulting to user installation because normal site-packages is not writeable\n",
      "Requirement already satisfied: openpyxl in /data3/home/yaswanthk/.local/lib/python3.10/site-packages (3.1.5)\n",
      "Requirement already satisfied: datasets in /data3/home/yaswanthk/.local/lib/python3.10/site-packages (2.21.0)\n",
      "Requirement already satisfied: gensim in /data3/home/yaswanthk/.local/lib/python3.10/site-packages (4.3.3)\n",
      "Requirement already satisfied: et-xmlfile in /data3/home/yaswanthk/.local/lib/python3.10/site-packages (from openpyxl) (1.1.0)\n",
      "Requirement already satisfied: tqdm>=4.66.3 in /data3/home/yaswanthk/.local/lib/python3.10/site-packages (from datasets) (4.66.5)\n",
      "Requirement already satisfied: pyyaml>=5.1 in /usr/lib/python3/dist-packages (from datasets) (5.4.1)\n",
      "Requirement already satisfied: requests>=2.32.2 in /data3/home/yaswanthk/.local/lib/python3.10/site-packages (from datasets) (2.32.3)\n",
      "Requirement already satisfied: fsspec[http]<=2024.6.1,>=2023.1.0 in /data3/home/yaswanthk/.local/lib/python3.10/site-packages (from datasets) (2024.3.1)\n",
      "Requirement already satisfied: numpy>=1.17 in /data3/home/yaswanthk/.local/lib/python3.10/site-packages (from datasets) (1.26.4)\n",
      "Requirement already satisfied: pyarrow>=15.0.0 in /data3/home/yaswanthk/.local/lib/python3.10/site-packages (from datasets) (17.0.0)\n",
      "Requirement already satisfied: pandas in /data3/home/yaswanthk/.local/lib/python3.10/site-packages (from datasets) (2.2.2)\n",
      "Requirement already satisfied: multiprocess in /data3/home/yaswanthk/.local/lib/python3.10/site-packages (from datasets) (0.70.16)\n",
      "Requirement already satisfied: aiohttp in /data3/home/yaswanthk/.local/lib/python3.10/site-packages (from datasets) (3.10.5)\n",
      "Requirement already satisfied: dill<0.3.9,>=0.3.0 in /data3/home/yaswanthk/.local/lib/python3.10/site-packages (from datasets) (0.3.8)\n",
      "Requirement already satisfied: filelock in /data3/home/yaswanthk/.local/lib/python3.10/site-packages (from datasets) (3.13.4)\n",
      "Requirement already satisfied: xxhash in /data3/home/yaswanthk/.local/lib/python3.10/site-packages (from datasets) (3.5.0)\n",
      "Requirement already satisfied: huggingface-hub>=0.21.2 in /data3/home/yaswanthk/.local/lib/python3.10/site-packages (from datasets) (0.22.2)\n",
      "Requirement already satisfied: packaging in /data3/home/yaswanthk/.local/lib/python3.10/site-packages (from datasets) (24.0)\n",
      "Requirement already satisfied: scipy<1.14.0,>=1.7.0 in /data3/home/yaswanthk/.local/lib/python3.10/site-packages (from gensim) (1.13.0)\n",
      "Requirement already satisfied: smart-open>=1.8.1 in /data3/home/yaswanthk/.local/lib/python3.10/site-packages (from gensim) (7.0.4)\n",
      "Requirement already satisfied: async-timeout<5.0,>=4.0 in /data3/home/yaswanthk/.local/lib/python3.10/site-packages (from aiohttp->datasets) (4.0.3)\n",
      "Requirement already satisfied: attrs>=17.3.0 in /data3/home/yaswanthk/.local/lib/python3.10/site-packages (from aiohttp->datasets) (24.2.0)\n",
      "Requirement already satisfied: multidict<7.0,>=4.5 in /data3/home/yaswanthk/.local/lib/python3.10/site-packages (from aiohttp->datasets) (6.0.5)\n",
      "Requirement already satisfied: aiohappyeyeballs>=2.3.0 in /data3/home/yaswanthk/.local/lib/python3.10/site-packages (from aiohttp->datasets) (2.4.0)\n",
      "Requirement already satisfied: aiosignal>=1.1.2 in /data3/home/yaswanthk/.local/lib/python3.10/site-packages (from aiohttp->datasets) (1.3.1)\n",
      "Requirement already satisfied: frozenlist>=1.1.1 in /data3/home/yaswanthk/.local/lib/python3.10/site-packages (from aiohttp->datasets) (1.4.1)\n",
      "Requirement already satisfied: yarl<2.0,>=1.0 in /data3/home/yaswanthk/.local/lib/python3.10/site-packages (from aiohttp->datasets) (1.9.7)\n",
      "Requirement already satisfied: typing-extensions>=3.7.4.3 in /data3/home/yaswanthk/.local/lib/python3.10/site-packages (from huggingface-hub>=0.21.2->datasets) (4.11.0)\n",
      "Requirement already satisfied: urllib3<3,>=1.21.1 in /usr/lib/python3/dist-packages (from requests>=2.32.2->datasets) (1.26.5)\n",
      "Requirement already satisfied: certifi>=2017.4.17 in /usr/lib/python3/dist-packages (from requests>=2.32.2->datasets) (2020.6.20)\n",
      "Requirement already satisfied: idna<4,>=2.5 in /usr/lib/python3/dist-packages (from requests>=2.32.2->datasets) (3.3)\n",
      "Requirement already satisfied: charset-normalizer<4,>=2 in /data3/home/yaswanthk/.local/lib/python3.10/site-packages (from requests>=2.32.2->datasets) (3.3.2)\n",
      "Requirement already satisfied: wrapt in /data3/home/yaswanthk/.local/lib/python3.10/site-packages (from smart-open>=1.8.1->gensim) (1.16.0)\n",
      "Requirement already satisfied: python-dateutil>=2.8.2 in /data3/home/yaswanthk/.local/lib/python3.10/site-packages (from pandas->datasets) (2.9.0.post0)\n",
      "Requirement already satisfied: pytz>=2020.1 in /usr/lib/python3/dist-packages (from pandas->datasets) (2022.1)\n",
      "Requirement already satisfied: tzdata>=2022.7 in /data3/home/yaswanthk/.local/lib/python3.10/site-packages (from pandas->datasets) (2024.1)\n",
      "Requirement already satisfied: six>=1.5 in /usr/lib/python3/dist-packages (from python-dateutil>=2.8.2->pandas->datasets) (1.16.0)\n",
      "Note: you may need to restart the kernel to use updated packages.\n"
     ]
    }
   ],
   "source": [
    "%pip install openpyxl datasets gensim"
   ]
  },
  {
   "cell_type": "code",
   "execution_count": 41,
   "metadata": {
    "metadata": {}
   },
   "outputs": [
    {
     "name": "stdout",
     "output_type": "stream",
     "text": [
      "{1, 2, 3, 4, 5}\n",
      "DatasetDict({\n",
      "    train: Dataset({\n",
      "        features: ['overall', 'reviewText'],\n",
      "        num_rows: 3999\n",
      "    })\n",
      "    validation: Dataset({\n",
      "        features: ['overall', 'reviewText'],\n",
      "        num_rows: 802\n",
      "    })\n",
      "    test: Dataset({\n",
      "        features: ['overall', 'reviewText'],\n",
      "        num_rows: 916\n",
      "    })\n",
      "})\n"
     ]
    }
   ],
   "source": [
    "import pandas as pd\n",
    "from datasets import Dataset, DatasetDict, load_dataset\n",
    "\n",
    "adjust = 0\n",
    "classes = 2\n",
    "\n",
    "\n",
    "# #SST2 dataset\n",
    "# train_file = pd.read_csv('datasets/SST2_TestData.csv')\n",
    "# train_dataset = Dataset.from_pandas(train_file)\n",
    "# dataset = load_dataset('sst2')\n",
    "# dataset = DatasetDict({\n",
    "#     'train': dataset['train'],\n",
    "#     'validation': dataset['validation'],\n",
    "#     'test': train_dataset\n",
    "# })\n",
    "# text = 'sentence'\n",
    "# label = 'label'\n",
    "\n",
    "\n",
    "# #SST5 dataset\n",
    "# dataset = load_dataset('SetFit/sst5')\n",
    "# print(dataset['train'][10])\n",
    "# text = 'text'\n",
    "# label = 'label'\n",
    "# classes = 5\n",
    "\n",
    "\n",
    "#Aug24-Assignment1-Dataset1\n",
    "train_file = pd.read_excel('datasets/Aug24-Assignment1-Dataset1.xlsx')\n",
    "val_file = pd.read_excel('datasets/Aug24-Assignment1-Validation-Dataset1.xlsx')\n",
    "# test_file = pd.read_excel('datasets/Aug24-Assignment1-Test-Dataset1.xlsx')\n",
    "test_file = pd.read_excel('datasets/Aug24-Assignment1-Dataset1-test.xlsx')\n",
    "train_dataset = Dataset.from_pandas(train_file)\n",
    "val_dataset = Dataset.from_pandas(val_file)\n",
    "test_dataset = Dataset.from_pandas(test_file)\n",
    "dataset = DatasetDict({\n",
    "    'train': train_dataset,\n",
    "    'validation': val_dataset,\n",
    "    'test': test_dataset\n",
    "})\n",
    "label = 'overall'\n",
    "text = 'reviewText'\n",
    "adjust = 1\n",
    "classes = 5\n",
    "\n",
    "\n",
    "\n",
    "\n",
    "\n",
    "print(set(dataset['train'][label]))\n",
    "print(dataset)"
   ]
  },
  {
   "cell_type": "code",
   "execution_count": 42,
   "metadata": {},
   "outputs": [],
   "source": [
    "# import nltk\n",
    "# from nltk.corpus import stopwords\n",
    "# from nltk.tokenize import word_tokenize\n",
    "# from nltk.stem import WordNetLemmatizer\n",
    "\n",
    "# # Download necessary NLTK data files\n",
    "# nltk.download('punkt_tab')\n",
    "# nltk.download('punkt')\n",
    "# nltk.download('stopwords')\n",
    "# nltk.download('wordnet')\n",
    "\n",
    "# # Load stop words\n",
    "# stop_words = set(stopwords.words('english'))\n",
    "\n",
    "# # Initialize lemmatizer\n",
    "# lemmatizer = WordNetLemmatizer()\n",
    "\n",
    "# # Preprocess a single sentence\n",
    "# def preprocess_sentence(sentence):\n",
    "#     if not isinstance(sentence, str):\n",
    "#         return []\n",
    "#     # Tokenize\n",
    "#     tokens = word_tokenize(sentence)\n",
    "#     # Lowercase\n",
    "#     tokens = [word.lower() for word in tokens]\n",
    "#     # Remove punctuation\n",
    "#     tokens = [word for word in tokens if word.isalnum()]\n",
    "#     # Remove stop words\n",
    "#     tokens = [word for word in tokens if word not in stop_words]\n",
    "#     # Lemmatize\n",
    "#     tokens = [lemmatizer.lemmatize(word) for word in tokens]\n",
    "#     return tokens\n",
    "\n",
    "# # Apply preprocessing to the dataset\n",
    "# def preprocess_dataset(dataset):\n",
    "#     for split in ['train', 'validation']:\n",
    "#         dataset[split] = dataset[split].map(lambda example: {'reviewText': preprocess_sentence(example[label])})\n",
    "#     return dataset\n",
    "\n",
    "# # Preprocess the dataset\n",
    "# dataset = preprocess_dataset(dataset)\n",
    "\n",
    "# # Verify the preprocessing\n",
    "# print(dataset['train'][0])\n",
    "# print(dataset['validation'][0])"
   ]
  },
  {
   "cell_type": "code",
   "execution_count": 43,
   "metadata": {
    "metadata": {}
   },
   "outputs": [],
   "source": [
    "import gensim.downloader as api\n",
    "\n",
    "#Load pre-trained word embeddings\n",
    "# vector_representation = api.load('word2vec-google-news-300')\n",
    "# vector_representation = api.load('glove-wiki-gigaword-300')\n",
    "# vector_representation = api.load('fasttext-wiki-news-subwords-300')"
   ]
  },
  {
   "cell_type": "code",
   "execution_count": 44,
   "metadata": {
    "metadata": {}
   },
   "outputs": [
    {
     "name": "stdout",
     "output_type": "stream",
     "text": [
      "torch.Size([32, 50, 300])\n",
      "torch.Size([32])\n"
     ]
    }
   ],
   "source": [
    "import numpy as np\n",
    "import torch\n",
    "from torch.utils.data import DataLoader, TensorDataset\n",
    "\n",
    "def sentence_to_matrix(sentence, vector_representation, max_len):\n",
    "    sentence = str(sentence)\n",
    "    words = sentence.split()\n",
    "    matrix = np.zeros((max_len, vector_representation.vector_size))\n",
    "    for i, word in enumerate(words):\n",
    "        if i >= max_len:\n",
    "            break\n",
    "        if word in vector_representation:\n",
    "            matrix[i] = vector_representation[word]\n",
    "    return matrix\n",
    "\n",
    "def create_dataloader(texts, labels, vector_representation, max_len, batch_size=32, shuffle=False): \n",
    "    matrices = [sentence_to_matrix(text, vector_representation, max_len) for text in texts]\n",
    "    labels = torch.tensor(labels) - adjust  # Adjust labels to start from 0\n",
    "    matrices = torch.tensor(matrices, dtype=torch.float32)\n",
    "    dataset = TensorDataset(matrices, labels)\n",
    "    return DataLoader(dataset, batch_size=batch_size, shuffle=shuffle)\n",
    "\n",
    "#Parameters\n",
    "# print(dataset['train'][1010])\n",
    "max_len = 50\n",
    "batch_size = 32\n",
    "\n",
    "train_text = dataset['train'][text]\n",
    "test_text = dataset['test'][text]\n",
    "valdation_text = dataset['validation'][text]\n",
    "\n",
    "train_labels = dataset['train'][label]\n",
    "test_labels = dataset['test'][label]\n",
    "# test_labels = list(np.zeros(len(dataset['test'][text])))\n",
    "valdation_labels = dataset['validation'][label]\n",
    "\n",
    "train_dataloader = create_dataloader(train_text, train_labels, vector_representation, max_len, batch_size)\n",
    "test_dataloader = create_dataloader(test_text, test_labels, vector_representation, max_len, batch_size)\n",
    "valdation_dataloader = create_dataloader(valdation_text, valdation_labels, vector_representation, max_len, batch_size)\n",
    "\n",
    "for batch in train_dataloader:\n",
    "    print(batch[0].shape)\n",
    "    print(batch[1].shape)\n",
    "    break"
   ]
  },
  {
   "cell_type": "code",
   "execution_count": 45,
   "metadata": {
    "metadata": {}
   },
   "outputs": [
    {
     "name": "stdout",
     "output_type": "stream",
     "text": [
      "3999 916\n",
      "Training Set Sentence Lengths:\n",
      "Mean: 49.66\n",
      "Median: 33.00\n",
      "Max: 1037\n",
      "\n",
      "Test Set Sentence Lengths:\n",
      "Mean: 53.87\n",
      "Median: 32.00\n",
      "Max: 1554\n"
     ]
    },
    {
     "data": {
      "image/png": "[encoded data removed]",
      "text/plain": [
       "<Figure size 640x480 with 1 Axes>"
      ]
     },
     "metadata": {},
     "output_type": "display_data"
    }
   ],
   "source": [
    "def calculate_sentence_length(dataset):\n",
    "    lengths = []\n",
    "    for sentence in dataset[text]:\n",
    "        sentence = str(sentence)\n",
    "        lengths.append(len(sentence.split()))\n",
    "    return lengths\n",
    "\n",
    "train_lengths = calculate_sentence_length(dataset['train'])\n",
    "test_lengths = calculate_sentence_length(dataset['test'])\n",
    "\n",
    "print(len(train_lengths), len(test_lengths))\n",
    "\n",
    "# Print statistics\n",
    "print(\"Training Set Sentence Lengths:\")\n",
    "print(f\"Mean: {np.mean(train_lengths):.2f}\")\n",
    "print(f\"Median: {np.median(train_lengths):.2f}\")\n",
    "print(f\"Max: {np.max(train_lengths)}\")\n",
    "\n",
    "print(\"\\nTest Set Sentence Lengths:\")\n",
    "print(f\"Mean: {np.mean(test_lengths):.2f}\")\n",
    "print(f\"Median: {np.median(test_lengths):.2f}\")\n",
    "print(f\"Max: {np.max(test_lengths)}\")\n",
    "\n",
    "#visualize the distribution of sentence lengths\n",
    "import matplotlib.pyplot as plt\n",
    "#printing mean, median and max of the sentence lengths\n",
    "plt.hist(train_lengths, bins=20, alpha=0.7, label='Train')\n",
    "plt.hist(test_lengths, bins=20, alpha=0.7, label='Test')\n",
    "plt.legend()\n",
    "plt.xlabel('Sentence Length')\n",
    "plt.ylabel('Count')\n",
    "plt.show()\n"
   ]
  },
  {
   "cell_type": "code",
   "execution_count": 46,
   "metadata": {
    "metadata": {}
   },
   "outputs": [
    {
     "name": "stdout",
     "output_type": "stream",
     "text": [
      "torch.Size([32, 5])\n"
     ]
    }
   ],
   "source": [
    "import torch\n",
    "import torch.nn as nn\n",
    "import torch.nn.functional as F\n",
    "\n",
    "class CustomEmbedding(nn.Module):\n",
    "    def __init__(self, embedding_dim):\n",
    "        super(CustomEmbedding, self).__init__()\n",
    "        self.embedding = nn.Parameter(torch.randn(embedding_dim, embedding_dim))\n",
    "\n",
    "    def forward(self, x):\n",
    "        return torch.matmul(x, self.embedding)\n",
    "\n",
    "class CNNClassifier(nn.Module):\n",
    "    def __init__(self, embedding_dim, maxlen, num_classes):\n",
    "        super(CNNClassifier, self).__init__()\n",
    "        self.conv1 = nn.Conv2d(1, 700, (3, embedding_dim), padding=(1, 0))  # 100 filters, kernel size (3, embedding_dim), padding to maintain size\n",
    "        self.conv2 = nn.Conv2d(1, 700, (4, embedding_dim), padding=(2, 0))  # 100 filters, kernel size (4, embedding_dim), padding to maintain size\n",
    "        self.conv3 = nn.Conv2d(1, 700, (5, embedding_dim), padding=(2, 0))  # 100 filters, kernel size (5, embedding_dim), padding to maintain size\n",
    "        self.maxpool = nn.MaxPool1d(maxlen)  \n",
    "        self.fc1 = nn.Linear(700 * 3, 500)  \n",
    "        self.fc2 = nn.Linear(500, num_classes)\n",
    "        self.dropout = nn.Dropout(0.5)\n",
    "        \n",
    "    def forward(self, x,embed=False):\n",
    "        #x = self.embedding(x).unsqueeze(1)  # Add channel dimension\n",
    "        x = x.unsqueeze(1)  # Add channel dimension\n",
    "        x1 = F.relu(self.conv1(x)).squeeze(3)\n",
    "        x1 = self.maxpool(x1).squeeze(2)\n",
    "        x2 = F.relu(self.conv2(x)).squeeze(3)\n",
    "        x2 = self.maxpool(x2).squeeze(2)\n",
    "        x3 = F.relu(self.conv3(x)).squeeze(3)\n",
    "        x3 = self.maxpool(x3).squeeze(2)\n",
    "        x = torch.cat((x1, x2, x3), 1)\n",
    "        x = F.relu(self.fc1(x))\n",
    "        x = self.dropout(x)\n",
    "        if embed:\n",
    "            return x\n",
    "        x = self.fc2(x)\n",
    "        x = F.log_softmax(x, dim=1)\n",
    "        return x\n",
    "\n",
    "# Parameters\n",
    "embedding_dim = 300\n",
    "maxlen = 50\n",
    "num_classes = classes  # Example number of classes\n",
    "\n",
    "# Initialize the model\n",
    "model = CNNClassifier(embedding_dim, maxlen, num_classes)\n",
    "\n",
    "# Example input\n",
    "input_data = torch.randn(32, maxlen, embedding_dim)  # Batch size 32, sequence length maxlen, input_dim 300\n",
    "output = model(input_data)\n",
    "print(output.shape)  # Should be (32, num_classes)"
   ]
  },
  {
   "cell_type": "code",
   "execution_count": 47,
   "metadata": {
    "metadata": {}
   },
   "outputs": [],
   "source": [
    "criterion = nn.CrossEntropyLoss()\n",
    "optimizer = torch.optim.Adam(model.parameters(), lr=0.001)\n",
    "num_epochs = 10\n",
    "device = torch.device('cuda:4' if torch.cuda.is_available() else 'cpu')\n",
    "model = model.to(device)"
   ]
  },
  {
   "cell_type": "code",
   "execution_count": 48,
   "metadata": {
    "metadata": {}
   },
   "outputs": [
    {
     "name": "stdout",
     "output_type": "stream",
     "text": [
      "Epoch 1, Loss: 93.0713672041893\n",
      "Accuracy: 79.93%\n",
      "Epoch 2, Loss: 76.90608522295952\n",
      "Accuracy: 79.80%\n",
      "Epoch 3, Loss: 60.43021450936794\n",
      "Accuracy: 79.43%\n",
      "Epoch 4, Loss: 40.91895546391606\n",
      "Accuracy: 76.43%\n",
      "Epoch 5, Loss: 24.53950598463416\n",
      "Accuracy: 79.55%\n",
      "Epoch 6, Loss: 21.302244815975428\n",
      "Accuracy: 71.82%\n",
      "Epoch 7, Loss: 20.447398174437694\n",
      "Accuracy: 45.89%\n",
      "Epoch 8, Loss: 17.481292229727842\n",
      "Accuracy: 73.82%\n",
      "Epoch 9, Loss: 2.400750257249456\n",
      "Accuracy: 77.93%\n",
      "Epoch 10, Loss: 0.8845690950984135\n",
      "Accuracy: 77.81%\n"
     ]
    }
   ],
   "source": [
    "for epoch in range(num_epochs):\n",
    "    model.train()\n",
    "    running_loss = 0.0\n",
    "    for i, batch in enumerate(train_dataloader):\n",
    "        inputs, labels = batch\n",
    "        inputs, labels = inputs.to(device), labels.to(device)\n",
    "        optimizer.zero_grad()\n",
    "        outputs = model(inputs)\n",
    "        loss = criterion(outputs, labels)\n",
    "        loss.backward()\n",
    "        optimizer.step()\n",
    "        running_loss += loss.item()\n",
    "    \n",
    "    print(f\"Epoch {epoch+1}, Loss: {running_loss}\")\n",
    "\n",
    "    model.eval()\n",
    "    correct = 0\n",
    "    total = 0\n",
    "    with torch.no_grad():\n",
    "        for i, batch in enumerate(valdation_dataloader):\n",
    "            inputs, labels = batch\n",
    "            inputs, labels = inputs.to(device), labels.to(device)\n",
    "            outputs = model(inputs)\n",
    "            _, predicted = torch.max(outputs, 1)\n",
    "            total += labels.size(0)\n",
    "            correct += (predicted == labels).sum().item()\n",
    "\n",
    "    print(f\"Accuracy: {100 * correct / total:.2f}%\")\n"
   ]
  },
  {
   "cell_type": "code",
   "execution_count": 49,
   "metadata": {},
   "outputs": [
    {
     "name": "stdout",
     "output_type": "stream",
     "text": [
      "Test Set Evaluation\n",
      "Accuracy: 80.13%\n"
     ]
    }
   ],
   "source": [
    "print(\"Test Set Evaluation\")\n",
    "model.eval()\n",
    "correct = 0\n",
    "total = 0\n",
    "with torch.no_grad():\n",
    "    for inputs, labels in test_dataloader:\n",
    "        inputs, labels = inputs.to(device), labels.to(device)\n",
    "        outputs = model(inputs)\n",
    "        _, predicted = torch.max(outputs, 1)\n",
    "       \n",
    "        total += labels.size(0)\n",
    "        correct += (predicted == labels).sum().item()\n",
    "accuracy = 100 * correct / total\n",
    "print(f'Accuracy: {accuracy:.2f}%')"
   ]
  },
  {
   "cell_type": "code",
   "execution_count": 50,
   "metadata": {},
   "outputs": [
    {
     "name": "stdout",
     "output_type": "stream",
     "text": [
      "916 916\n",
      "Accuracy: 80.13%\n",
      "Precision: 0.45\n",
      "Recall: 0.32\n",
      "Macro F1 Score: 0.32\n",
      "Micro F1 Score: 0.80\n",
      "[[ 27   2   1   1  19]\n",
      " [  7   0   0   1  10]\n",
      " [  4   0   2   2  28]\n",
      " [  3   0   0   3  88]\n",
      " [  6   1   0   9 702]]\n"
     ]
    }
   ],
   "source": [
    "from sklearn.metrics import precision_score, recall_score, f1_score, confusion_matrix\n",
    "\n",
    "correct = 0\n",
    "total = 0\n",
    "actual_labels = []\n",
    "predicted_labels = []\n",
    "\n",
    "\n",
    "with torch.no_grad():\n",
    "    for inputs, labels in test_dataloader:\n",
    "    # for inputs, labels in valdation_dataloader:\n",
    "        inputs, labels = inputs.to(device), labels.to(device)\n",
    "        outputs = model(inputs)\n",
    "        _, predicted = torch.max(outputs, 1)\n",
    "        actual_labels.extend(labels.tolist())\n",
    "        predicted_labels.extend(predicted.tolist())\n",
    "        total += labels.size(0)\n",
    "        correct += (predicted == labels).sum().item()\n",
    "\n",
    "print(len(actual_labels), len(predicted_labels))\n",
    "\n",
    "# predicted_labels = [x + adjust for x in predicted_labels]\n",
    "# save predictions in new excel file\n",
    "# test_result = pd.read_excel('datasets/Aug24-Assignment-Dataset1-test-predicted.xlsx')\n",
    "# test_result['predicted'] = predicted_labels\n",
    "# test_result.to_excel('datasets/Aug24-Assignment-Dataset1-test-predicted.xlsx', index=False)\n",
    "\n",
    "accuracy = 100 * correct / total\n",
    "precision = precision_score(actual_labels, predicted_labels, average='macro')\n",
    "recall = recall_score(actual_labels, predicted_labels, average='macro')\n",
    "macro_f1 = f1_score(actual_labels, predicted_labels, average='macro')\n",
    "micro_f1 = f1_score(actual_labels, predicted_labels, average='micro')\n",
    "\n",
    "print(f'Accuracy: {accuracy:.2f}%')\n",
    "print(f'Precision: {precision:.2f}')\n",
    "print(f'Recall: {recall:.2f}')\n",
    "print(f'Macro F1 Score: {macro_f1:.2f}')\n",
    "print(f'Micro F1 Score: {micro_f1:.2f}')\n",
    "print(confusion_matrix(actual_labels, predicted_labels))\n"
   ]
  },
  {
   "cell_type": "code",
   "execution_count": 51,
   "metadata": {},
   "outputs": [],
   "source": [
    "# # temp_labels = predicted_labels\n",
    "# print(len(temp_labels), len(actual_labels))\n",
    "# micro_f1 = f1_score(actual_labels, temp_labels, average='micro')\n",
    "# print(f'Micro F1 Score: {micro_f1:.2f}')"
   ]
  }
 ],
 "metadata": {
  "kernelspec": {
   "display_name": "Python 3 (ipykernel)",
   "language": "python",
   "name": "python3"
  },
  "language_info": {
   "codemirror_mode": {
    "name": "ipython",
    "version": 3
   },
   "file_extension": ".py",
   "mimetype": "text/x-python",
   "name": "python",
   "nbconvert_exporter": "python",
   "pygments_lexer": "ipython3",
   "version": "3.10.12"
  }
 },
 "nbformat": 4,
 "nbformat_minor": 4
}
